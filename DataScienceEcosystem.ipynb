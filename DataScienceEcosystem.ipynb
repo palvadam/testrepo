{
 "cells": [
  {
   "cell_type": "markdown",
   "id": "27e10de2-f66b-4a0a-8da5-0a5ec202153d",
   "metadata": {
    "editable": true,
    "slideshow": {
     "slide_type": ""
    },
    "tags": []
   },
   "source": [
    "# Data Science Tools\n",
    "## In this notebook, Data Science Tools and Ecosystem are summarized\n",
    "\n",
    "__Objectives__\n",
    "- List languages and linbraries in ordered form\n",
    "- List developing environments in tabular form\n",
    "- Add an Author line\n",
    "- Perform simple mathematical calculations\n",
    "\n",
    "### Some of the popular languages that Sata Scientists use are:\n",
    "##### 1. Python\n",
    "##### 2. R Language\n",
    "##### 3. SQL\n",
    "##### 4. Julia\n",
    "##### 5. Scale\n",
    "##### 6. C++\n",
    "##### 7. JavaScript\n",
    "\n",
    "### Some of the popular libraries used by Sata Scientists include:\n",
    "##### 1. NumPy (Python)\n",
    "##### 2. Pandas (Python)\n",
    "##### 3. Matplotlib (Python)\n",
    "##### 4. Seaborn (Python)\n",
    "##### 5. ggplot (R)\n",
    "##### 6. Keras (R)\n",
    "\n",
    "| Data Science Tools |\n",
    "|--------------------|\n",
    "|JupyterLab|\n",
    "|Visual Studio Code|\n",
    "|R Studio|\n",
    "\n",
    "### Below are a few examples of evaluating arithmetic expressions in Python"
   ]
  },
  {
   "cell_type": "code",
   "execution_count": 10,
   "id": "f8e3ec9c-e772-402c-b58a-8032fa314660",
   "metadata": {},
   "outputs": [
    {
     "data": {
      "text/plain": [
       "17"
      ]
     },
     "execution_count": 10,
     "metadata": {},
     "output_type": "execute_result"
    }
   ],
   "source": [
    "# This is a simple arithmetic expression to multiply then add integers:\n",
    "\n",
    "(3*4)+5"
   ]
  },
  {
   "cell_type": "code",
   "execution_count": null,
   "id": "9731e79d-5b1e-44f8-a5d4-9c46c7dcc688",
   "metadata": {},
   "outputs": [],
   "source": [
    "# This command will convert 200 minutes to hours by dividing the 60:\n",
    "\n",
    "min = input(\"Please enter the number of minutes to be converted\")\n",
    "hours = int(min)/60\n",
    "hours\n"
   ]
  },
  {
   "cell_type": "markdown",
   "id": "c5b49310-62d1-488a-84eb-f50a72b845e9",
   "metadata": {},
   "source": []
  },
  {
   "cell_type": "markdown",
   "id": "31177d90-f4b4-4914-886f-5ddc338e8e40",
   "metadata": {},
   "source": [
    "## Author: \n",
    "#### Ádám Márk Pálvölgyi"
   ]
  },
  {
   "cell_type": "code",
   "execution_count": null,
   "id": "9ae516ea-45ca-4783-b8fd-dde97eaced64",
   "metadata": {},
   "outputs": [],
   "source": []
  }
 ],
 "metadata": {
  "kernelspec": {
   "display_name": "Python 3 (ipykernel)",
   "language": "python",
   "name": "python3"
  },
  "language_info": {
   "codemirror_mode": {
    "name": "ipython",
    "version": 3
   },
   "file_extension": ".py",
   "mimetype": "text/x-python",
   "name": "python",
   "nbconvert_exporter": "python",
   "pygments_lexer": "ipython3",
   "version": "3.8.17"
  }
 },
 "nbformat": 4,
 "nbformat_minor": 5
}
